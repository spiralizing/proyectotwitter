{
 "cells": [
  {
   "cell_type": "code",
   "execution_count": 1,
   "metadata": {
    "collapsed": true
   },
   "outputs": [],
   "source": [
    "using Twitter\n",
    "using DataFrames"
   ]
  },
  {
   "cell_type": "code",
   "execution_count": 2,
   "metadata": {
    "collapsed": false
   },
   "outputs": [
    {
     "data": {
      "text/plain": [
       "TWCRED(\"hrmZJyvHXq58UScrrLDUOTeXD\",\"qnhqTEWjDvbfwZYdOoN60ooTZlEjVxFPDUYWXviWgVRLVqgSc7\",\"88499773-R8NWsp6rcXIo6BsW0rIocqj1fT5fqf3JBenhAhuET\",\"rqWParAUdtX4MkrBTo9Nvop5rgvLy24AbPvhgIVlc6BDI\")"
      ]
     },
     "execution_count": 2,
     "metadata": {},
     "output_type": "execute_result"
    }
   ],
   "source": [
    "apikey = \"hrmZJyvHXq58UScrrLDUOTeXD\"\n",
    "apisecret = \"qnhqTEWjDvbfwZYdOoN60ooTZlEjVxFPDUYWXviWgVRLVqgSc7\"\n",
    "accesstoken = \"88499773-R8NWsp6rcXIo6BsW0rIocqj1fT5fqf3JBenhAhuET\"\n",
    "accesstokensecret = \"rqWParAUdtX4MkrBTo9Nvop5rgvLy24AbPvhgIVlc6BDI\"\n",
    "#los tokens y las api se consiguen de haber creado una app desde twitter despues se usa la funcion que sigue para \"loguear\" en Twitter\n",
    "twitterauth(apikey,\n",
    "            apisecret,\n",
    "            accesstoken,\n",
    "            accesstokensecret)"
   ]
  },
  {
   "cell_type": "code",
   "execution_count": 9,
   "metadata": {
    "collapsed": false,
    "scrolled": true
   },
   "outputs": [],
   "source": [
    "tweets = get_search_tweets(\"#ToTheGirls\")\n",
    "df = DataFrame(tweets);"
   ]
  },
  {
   "cell_type": "code",
   "execution_count": 11,
   "metadata": {
    "collapsed": false
   },
   "outputs": [],
   "source": [
    "df[df[:coordinates] .!= nothing , :];"
   ]
  },
  {
   "cell_type": "code",
   "execution_count": 10,
   "metadata": {
    "collapsed": false
   },
   "outputs": [],
   "source": [
    "df[:place];"
   ]
  }
 ],
 "metadata": {
  "kernelspec": {
   "display_name": "Julia 0.3.7",
   "language": "julia",
   "name": "julia 0.3"
  },
  "language_info": {
   "name": "julia",
   "version": "0.3.7"
  }
 },
 "nbformat": 4,
 "nbformat_minor": 0
}
