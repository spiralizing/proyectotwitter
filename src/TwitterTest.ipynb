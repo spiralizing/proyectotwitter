{
 "cells": [
  {
   "cell_type": "code",
   "execution_count": 1,
   "metadata": {
    "collapsed": true
   },
   "outputs": [],
   "source": [
    "using Twitter\n",
    "using DataFrames"
   ]
  },
  {
   "cell_type": "code",
   "execution_count": 2,
   "metadata": {
    "collapsed": false
   },
   "outputs": [
    {
     "data": {
      "text/plain": [
       "TWCRED(\"hrmZJyvHXq58UScrrLDUOTeXD\",\"qnhqTEWjDvbfwZYdOoN60ooTZlEjVxFPDUYWXviWgVRLVqgSc7\",\"88499773-R8NWsp6rcXIo6BsW0rIocqj1fT5fqf3JBenhAhuET\",\"rqWParAUdtX4MkrBTo9Nvop5rgvLy24AbPvhgIVlc6BDI\")"
      ]
     },
     "execution_count": 2,
     "metadata": {},
     "output_type": "execute_result"
    }
   ],
   "source": [
    "apikey = \"hrmZJyvHXq58UScrrLDUOTeXD\"\n",
    "apisecret = \"qnhqTEWjDvbfwZYdOoN60ooTZlEjVxFPDUYWXviWgVRLVqgSc7\"\n",
    "accesstoken = \"88499773-R8NWsp6rcXIo6BsW0rIocqj1fT5fqf3JBenhAhuET\"\n",
    "accesstokensecret = \"rqWParAUdtX4MkrBTo9Nvop5rgvLy24AbPvhgIVlc6BDI\"\n",
    "#los tokens y las api se consiguen de haber creado una app desde twitter despues se usa la funcion que sigue para \"loguear\" en Twitter\n",
    "twitterauth(apikey,\n",
    "            apisecret,\n",
    "            accesstoken,\n",
    "            accesstokensecret)"
   ]
  },
  {
   "cell_type": "code",
   "execution_count": 20,
   "metadata": {
    "collapsed": false
   },
   "outputs": [],
   "source": [
    "tweets = get_search_tweets(\"#hoverboard\")\n",
    "df = DataFrame(tweets);"
   ]
  },
  {
   "cell_type": "code",
   "execution_count": 21,
   "metadata": {
    "collapsed": false
   },
   "outputs": [
    {
     "data": {
      "text/html": [
       "<table class=\"data-frame\"><tr><th></th><th>contributors</th><th>coordinates</th><th>created_at</th><th>current_user_retweet</th><th>entities</th><th>favorite_count</th><th>favorited</th><th>filter_level</th><th>id</th><th>id_str</th><th>in_reply_to_screen_name</th><th>in_reply_to_status_id</th><th>in_reply_to_status_id_str</th><th>in_reply_to_user_id</th><th>in_reply_to_user_id_str</th><th>lang</th><th>place</th><th>possibly_sensitive</th><th>scopes</th><th>retweet_count</th><th>retweeted</th><th>retweeted_status</th><th>source</th><th>text</th><th>truncated</th><th>user</th><th>withheld_copyright</th><th>withheld_in_countries</th><th>withheld_scope</th></tr><tr><th>1</th><td>nothing</td><td>[\"coordinates\"=&gt;{10.02764017,53.53813491},\"type\"=&gt;\"Point\"]</td><td>Sun Apr 12 11:03:27 +0000 2015</td><td>nothing</td><td>[\"symbols\"=&gt;{},\"urls\"=&gt;{},\"user_mentions\"=&gt;{},\"media\"=&gt;{[\"sizes\"=&gt;[\"medium\"=&gt;[\"w\"=&gt;600,\"h\"=&gt;449,\"resize\"=&gt;\"fit\"],\"small\"=&gt;[\"w\"=&gt;340,\"h\"=&gt;254,\"resize\"=&gt;\"fit\"],\"large\"=&gt;[\"w\"=&gt;822,\"h\"=&gt;616,\"resize\"=&gt;\"fit\"],\"thumb\"=&gt;[\"w\"=&gt;150,\"h\"=&gt;150,\"resize\"=&gt;\"crop\"]],\"id_str\"=&gt;\"587209369001009153\",\"display_url\"=&gt;\"pic.twitter.com/w5ELA745vB\",\"id\"=&gt;587209369001009153,\"indices\"=&gt;{113,135},\"media_url\"=&gt;\"http://pbs.twimg.com/media/CCYvz1gWIAERQbC.jpg\",\"expanded_url\"=&gt;\"http://twitter.com/TrendJam_de/status/587209408523939840/photo/1\",\"url\"=&gt;\"http://t.co/w5ELA745vB\",\"media_url_https\"=&gt;\"https://pbs.twimg.com/media/CCYvz1gWIAERQbC.jpg\",\"type\"=&gt;\"photo\"]},\"hashtags\"=&gt;{[\"indices\"=&gt;{0,10},\"text\"=&gt;\"Zeitreise\"],[\"indices\"=&gt;{15,34},\"text\"=&gt;\"OldtimerTankstelle\"],[\"indices\"=&gt;{35,43},\"text\"=&gt;\"Hamburg\"],[\"indices\"=&gt;{45,54},\"text\"=&gt;\"DeLorean\"],[\"indices\"=&gt;{75,84},\"text\"=&gt;\"outatime\"],[\"indices\"=&gt;{85,90},\"text\"=&gt;\"bttf\"],[\"indices\"=&gt;{91,100},\"text\"=&gt;\"Oldtimer\"],[\"indices\"=&gt;{101,112},\"text\"=&gt;\"HoverBoard\"]}]</td><td>3</td><td>false</td><td>nothing</td><td>587209408523939840</td><td>587209408523939840</td><td>nothing</td><td>nothing</td><td>nothing</td><td>nothing</td><td>nothing</td><td>de</td><td>[\"place_type\"=&gt;\"city\",\"name\"=&gt;\"Hamburg\",\"bounding_box\"=&gt;[\"coordinates\"=&gt;{{{8.4201604,53.395118},{10.325199,53.395118},{10.325199,53.9646546},{8.4201604,53.9646546}}},\"type\"=&gt;\"Polygon\"],\"attributes\"=&gt;Dict{String,Any}(),\"id\"=&gt;\"5bcd72da50f0ee77\",\"full_name\"=&gt;\"Hamburg, Deutschland\",\"contained_within\"=&gt;{},\"url\"=&gt;\"https://api.twitter.com/1.1/geo/id/5bcd72da50f0ee77.json\",\"country\"=&gt;\"Deutschland\",\"country_code\"=&gt;\"DE\"]</td><td>false</td><td>nothing</td><td>0</td><td>false</td><td>nothing</td><td>&lt;a href=\"http://twitter.com/download/iphone\" rel=\"nofollow\"&gt;Twitter for iPhone&lt;/a&gt;</td><td>#Zeitreise zur #OldtimerTankstelle #Hamburg. #DeLorean von 1985 nach 2015. #outatime #bttf #Oldtimer #HoverBoard http://t.co/w5ELA745vB</td><td>false</td><td>[\"time_zone\"=&gt;\"Berlin\",\"created_at\"=&gt;\"Mon Jun 25 20:18:31 +0000 2012\",\"utc_offset\"=&gt;7200,\"is_translator\"=&gt;false,\"profile_image_url\"=&gt;\"http://pbs.twimg.com/profile_images/477520380496596992/QfkEeM_g_normal.png\",\"favourites_count\"=&gt;744,\"profile_sidebar_border_color\"=&gt;\"C0DEED\",\"following\"=&gt;false,\"profile_link_color\"=&gt;\"0084B4\",\"default_profile_image\"=&gt;false,\"name\"=&gt;\"TrendJam Magazin\",\"location\"=&gt;\"\",\"friends_count\"=&gt;60,\"id\"=&gt;618406531,\"entities\"=&gt;[\"url\"=&gt;[\"urls\"=&gt;{[\"display_url\"=&gt;\"trendjam.de\",\"indices\"=&gt;{0,22},\"expanded_url\"=&gt;\"http://www.trendjam.de\",\"url\"=&gt;\"http://t.co/Q7it2SVD0M\"]}],\"description\"=&gt;[\"urls\"=&gt;{}]],\"statuses_count\"=&gt;549,\"default_profile\"=&gt;true,\"description\"=&gt;\"Urban Living, Trends &amp; Lifestyle aus #Hamburg und #Berlin\",\"follow_request_sent\"=&gt;false,\"profile_location\"=&gt;nothing,\"profile_text_color\"=&gt;\"333333\",\"id_str\"=&gt;\"618406531\",\"followers_count\"=&gt;73,\"protected\"=&gt;false,\"is_translation_enabled\"=&gt;false,\"profile_background_image_url\"=&gt;\"http://abs.twimg.com/images/themes/theme1/bg.png\",\"profile_background_tile\"=&gt;false,\"listed_count\"=&gt;6,\"profile_sidebar_fill_color\"=&gt;\"DDEEF6\",\"notifications\"=&gt;false,\"geo_enabled\"=&gt;true,\"url\"=&gt;\"http://t.co/Q7it2SVD0M\",\"screen_name\"=&gt;\"TrendJam_de\",\"profile_background_color\"=&gt;\"C0DEED\",\"profile_image_url_https\"=&gt;\"https://pbs.twimg.com/profile_images/477520380496596992/QfkEeM_g_normal.png\",\"profile_use_background_image\"=&gt;true,\"contributors_enabled\"=&gt;false,\"lang\"=&gt;\"de\",\"profile_background_image_url_https\"=&gt;\"https://abs.twimg.com/images/themes/theme1/bg.png\",\"verified\"=&gt;false]</td><td>nothing</td><td>nothing</td><td>nothing</td></tr></table>"
      ],
      "text/plain": [
       "1x29 DataFrame\n",
       "| Row | contributors |\n",
       "|-----|--------------|\n",
       "| 1   | nothing      |\n",
       "\n",
       "| Row | coordinates                                                |\n",
       "|-----|------------------------------------------------------------|\n",
       "| 1   | [\"coordinates\"=>{10.02764017,53.53813491},\"type\"=>\"Point\"] |\n",
       "\n",
       "| Row | created_at                       | current_user_retweet |\n",
       "|-----|----------------------------------|----------------------|\n",
       "| 1   | \"Sun Apr 12 11:03:27 +0000 2015\" | nothing              |\n",
       "\n",
       "| Row | entities                                                                                                                                                                                                                                                                                                                                                                                                                                                                                                                                                                                                                                                                                                                                                                                                                                                                                                                                                                                                            |\n",
       "|-----|---------------------------------------------------------------------------------------------------------------------------------------------------------------------------------------------------------------------------------------------------------------------------------------------------------------------------------------------------------------------------------------------------------------------------------------------------------------------------------------------------------------------------------------------------------------------------------------------------------------------------------------------------------------------------------------------------------------------------------------------------------------------------------------------------------------------------------------------------------------------------------------------------------------------------------------------------------------------------------------------------------------------|\n",
       "| 1   | [\"symbols\"=>{},\"urls\"=>{},\"user_mentions\"=>{},\"media\"=>{[\"sizes\"=>[\"medium\"=>[\"w\"=>600,\"h\"=>449,\"resize\"=>\"fit\"],\"small\"=>[\"w\"=>340,\"h\"=>254,\"resize\"=>\"fit\"],\"large\"=>[\"w\"=>822,\"h\"=>616,\"resize\"=>\"fit\"],\"thumb\"=>[\"w\"=>150,\"h\"=>150,\"resize\"=>\"crop\"]],\"id_str\"=>\"587209369001009153\",\"display_url\"=>\"pic.twitter.com/w5ELA745vB\",\"id\"=>587209369001009153,\"indices\"=>{113,135},\"media_url\"=>\"http://pbs.twimg.com/media/CCYvz1gWIAERQbC.jpg\",\"expanded_url\"=>\"http://twitter.com/TrendJam_de/status/587209408523939840/photo/1\",\"url\"=>\"http://t.co/w5ELA745vB\",\"media_url_https\"=>\"https://pbs.twimg.com/media/CCYvz1gWIAERQbC.jpg\",\"type\"=>\"photo\"]},\"hashtags\"=>{[\"indices\"=>{0,10},\"text\"=>\"Zeitreise\"],[\"indices\"=>{15,34},\"text\"=>\"OldtimerTankstelle\"],[\"indices\"=>{35,43},\"text\"=>\"Hamburg\"],[\"indices\"=>{45,54},\"text\"=>\"DeLorean\"],[\"indices\"=>{75,84},\"text\"=>\"outatime\"],[\"indices\"=>{85,90},\"text\"=>\"bttf\"],[\"indices\"=>{91,100},\"text\"=>\"Oldtimer\"],[\"indices\"=>{101,112},\"text\"=>\"HoverBoard\"]}] |\n",
       "\n",
       "| Row | favorite_count | favorited | filter_level | id                 |\n",
       "|-----|----------------|-----------|--------------|--------------------|\n",
       "| 1   | 3              | false     | nothing      | 587209408523939840 |\n",
       "\n",
       "| Row | id_str               | in_reply_to_screen_name | in_reply_to_status_id |\n",
       "|-----|----------------------|-------------------------|-----------------------|\n",
       "| 1   | \"587209408523939840\" | nothing                 | nothing               |\n",
       "\n",
       "| Row | in_reply_to_status_id_str | in_reply_to_user_id |\n",
       "|-----|---------------------------|---------------------|\n",
       "| 1   | nothing                   | nothing             |\n",
       "\n",
       "| Row | in_reply_to_user_id_str | lang |\n",
       "|-----|-------------------------|------|\n",
       "| 1   | nothing                 | \"de\" |\n",
       "\n",
       "| Row | place                                                                                                                                                                                                                                                                                                                                                                                                                          |\n",
       "|-----|--------------------------------------------------------------------------------------------------------------------------------------------------------------------------------------------------------------------------------------------------------------------------------------------------------------------------------------------------------------------------------------------------------------------------------|\n",
       "| 1   | [\"place_type\"=>\"city\",\"name\"=>\"Hamburg\",\"bounding_box\"=>[\"coordinates\"=>{{{8.4201604,53.395118},{10.325199,53.395118},{10.325199,53.9646546},{8.4201604,53.9646546}}},\"type\"=>\"Polygon\"],\"attributes\"=>Dict{String,Any}(),\"id\"=>\"5bcd72da50f0ee77\",\"full_name\"=>\"Hamburg, Deutschland\",\"contained_within\"=>{},\"url\"=>\"https://api.twitter.com/1.1/geo/id/5bcd72da50f0ee77.json\",\"country\"=>\"Deutschland\",\"country_code\"=>\"DE\"] |\n",
       "\n",
       "| Row | possibly_sensitive | scopes  | retweet_count | retweeted |\n",
       "|-----|--------------------|---------|---------------|-----------|\n",
       "| 1   | false              | nothing | 0             | false     |\n",
       "\n",
       "| Row | retweeted_status |\n",
       "|-----|------------------|\n",
       "| 1   | nothing          |\n",
       "\n",
       "| Row | source                                                                               |\n",
       "|-----|--------------------------------------------------------------------------------------|\n",
       "| 1   | \"<a href=\\\"http://twitter.com/download/iphone\\\" rel=\\\"nofollow\\\">Twitter for iPhone</a>\" |\n",
       "\n",
       "| Row | text                                                                                                                                      |\n",
       "|-----|-------------------------------------------------------------------------------------------------------------------------------------------|\n",
       "| 1   | \"#Zeitreise zur #OldtimerTankstelle #Hamburg. #DeLorean von 1985 nach 2015. #outatime #bttf #Oldtimer #HoverBoard http://t.co/w5ELA745vB\" |\n",
       "\n",
       "| Row | truncated |\n",
       "|-----|-----------|\n",
       "| 1   | false     |\n",
       "\n",
       "| Row | user                                                                                                                                                                                                                                                                                                                                                                                                                                                                                                                                                                                                                                                                                                                                                                                                                                                                                                                                                                                                                                                                                                                                                                                                                                                                                                                                                                                                                                                                                                                                                                                     |\n",
       "|-----|------------------------------------------------------------------------------------------------------------------------------------------------------------------------------------------------------------------------------------------------------------------------------------------------------------------------------------------------------------------------------------------------------------------------------------------------------------------------------------------------------------------------------------------------------------------------------------------------------------------------------------------------------------------------------------------------------------------------------------------------------------------------------------------------------------------------------------------------------------------------------------------------------------------------------------------------------------------------------------------------------------------------------------------------------------------------------------------------------------------------------------------------------------------------------------------------------------------------------------------------------------------------------------------------------------------------------------------------------------------------------------------------------------------------------------------------------------------------------------------------------------------------------------------------------------------------------------------|\n",
       "| 1   | [\"time_zone\"=>\"Berlin\",\"created_at\"=>\"Mon Jun 25 20:18:31 +0000 2012\",\"utc_offset\"=>7200,\"is_translator\"=>false,\"profile_image_url\"=>\"http://pbs.twimg.com/profile_images/477520380496596992/QfkEeM_g_normal.png\",\"favourites_count\"=>744,\"profile_sidebar_border_color\"=>\"C0DEED\",\"following\"=>false,\"profile_link_color\"=>\"0084B4\",\"default_profile_image\"=>false,\"name\"=>\"TrendJam Magazin\",\"location\"=>\"\",\"friends_count\"=>60,\"id\"=>618406531,\"entities\"=>[\"url\"=>[\"urls\"=>{[\"display_url\"=>\"trendjam.de\",\"indices\"=>{0,22},\"expanded_url\"=>\"http://www.trendjam.de\",\"url\"=>\"http://t.co/Q7it2SVD0M\"]}],\"description\"=>[\"urls\"=>{}]],\"statuses_count\"=>549,\"default_profile\"=>true,\"description\"=>\"Urban Living, Trends & Lifestyle aus #Hamburg und #Berlin\",\"follow_request_sent\"=>false,\"profile_location\"=>nothing,\"profile_text_color\"=>\"333333\",\"id_str\"=>\"618406531\",\"followers_count\"=>73,\"protected\"=>false,\"is_translation_enabled\"=>false,\"profile_background_image_url\"=>\"http://abs.twimg.com/images/themes/theme1/bg.png\",\"profile_background_tile\"=>false,\"listed_count\"=>6,\"profile_sidebar_fill_color\"=>\"DDEEF6\",\"notifications\"=>false,\"geo_enabled\"=>true,\"url\"=>\"http://t.co/Q7it2SVD0M\",\"screen_name\"=>\"TrendJam_de\",\"profile_background_color\"=>\"C0DEED\",\"profile_image_url_https\"=>\"https://pbs.twimg.com/profile_images/477520380496596992/QfkEeM_g_normal.png\",\"profile_use_background_image\"=>true,\"contributors_enabled\"=>false,\"lang\"=>\"de\",\"profile_background_image_url_https\"=>\"https://abs.twimg.com/images/themes/theme1/bg.png\",\"verified\"=>false] |\n",
       "\n",
       "| Row | withheld_copyright | withheld_in_countries | withheld_scope |\n",
       "|-----|--------------------|-----------------------|----------------|\n",
       "| 1   | nothing            | nothing               | nothing        |"
      ]
     },
     "execution_count": 21,
     "metadata": {},
     "output_type": "execute_result"
    }
   ],
   "source": [
    "df[df[:coordinates] .!= nothing , :]"
   ]
  }
 ],
 "metadata": {
  "kernelspec": {
   "display_name": "Julia 0.3.7",
   "language": "julia",
   "name": "julia 0.3"
  },
  "language_info": {
   "name": "julia",
   "version": "0.3.7"
  }
 },
 "nbformat": 4,
 "nbformat_minor": 0
}
